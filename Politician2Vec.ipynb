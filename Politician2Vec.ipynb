{
 "cells": [
  {
   "cell_type": "code",
   "execution_count": 3,
   "metadata": {},
   "outputs": [],
   "source": [
    "#-*- coding: utf-8 -*-\n",
    "import sys\n",
    "stdout = sys.stdout\n",
    "reload(sys)\n",
    "sys.setdefaultencoding('utf-8')\n",
    "sys.stdout = stdout\n",
    "\n",
    "from gensim import *"
   ]
  },
  {
   "cell_type": "code",
   "execution_count": 4,
   "metadata": {},
   "outputs": [],
   "source": [
    "# constants\n",
    "WORD_FILE_NAME = 'data.out'\n",
    "MODEL_FILE_NAME = 'politician_model'\n",
    "\n",
    "# Trainining\n",
    "with open('proposers.out') as f:\n",
    "    sentences = models.word2vec.LineSentence(WORD_FILE_NAME)\n",
    "    model = models.Word2Vec(sentences, size=200, window=100, min_count=5, workers=4)\n",
    "    model.save(MODEL_FILE_NAME)"
   ]
  },
  {
   "cell_type": "code",
   "execution_count": 5,
   "metadata": {},
   "outputs": [],
   "source": [
    "model = models.Word2Vec.load(MODEL_FILE_NAME)"
   ]
  },
  {
   "cell_type": "code",
   "execution_count": null,
   "metadata": {},
   "outputs": [],
   "source": []
  },
  {
   "cell_type": "code",
   "execution_count": 6,
   "metadata": {},
   "outputs": [
    {
     "data": {
      "text/plain": [
       "0.4903890028755219"
      ]
     },
     "execution_count": 6,
     "metadata": {},
     "output_type": "execute_result"
    }
   ],
   "source": [
    "model.wv.similarity(u'박근혜', u'유승민')"
   ]
  },
  {
   "cell_type": "code",
   "execution_count": 7,
   "metadata": {},
   "outputs": [
    {
     "data": {
      "text/plain": [
       "0.61264385304555069"
      ]
     },
     "execution_count": 7,
     "metadata": {},
     "output_type": "execute_result"
    }
   ],
   "source": [
    "model.wv.similarity(u'박근혜', u'문재인')"
   ]
  },
  {
   "cell_type": "code",
   "execution_count": 8,
   "metadata": {},
   "outputs": [],
   "source": [
    "msim = model.wv.most_similar(positive=[u'문재인'], negative=[])"
   ]
  },
  {
   "cell_type": "code",
   "execution_count": 15,
   "metadata": {},
   "outputs": [
    {
     "name": "stdout",
     "output_type": "stream",
     "text": [
      "박범계\n",
      "도종환\n",
      "박병석\n",
      "문희상\n",
      "민병두\n",
      "박지원\n",
      "김한길\n",
      "김태년\n",
      "박완주\n",
      "김현\n"
     ]
    }
   ],
   "source": [
    "for v in msim:\n",
    "    print v[0]"
   ]
  },
  {
   "cell_type": "code",
   "execution_count": 10,
   "metadata": {},
   "outputs": [
    {
     "name": "stdout",
     "output_type": "stream",
     "text": [
      "김학송\n",
      "박진\n",
      "박종근\n",
      "김충환\n",
      "박영아\n",
      "남경필\n",
      "서병수\n",
      "박상은\n",
      "박순자\n",
      "김장수\n"
     ]
    }
   ],
   "source": [
    "msim2 = model.wv.most_similar(positive=[u'박근혜'])\n",
    "for v in msim2:\n",
    "    print v[0]"
   ]
  },
  {
   "cell_type": "code",
   "execution_count": null,
   "metadata": {},
   "outputs": [],
   "source": []
  }
 ],
 "metadata": {
  "kernelspec": {
   "display_name": "Python 2",
   "language": "python",
   "name": "python2"
  },
  "language_info": {
   "codemirror_mode": {
    "name": "ipython",
    "version": 2
   },
   "file_extension": ".py",
   "mimetype": "text/x-python",
   "name": "python",
   "nbconvert_exporter": "python",
   "pygments_lexer": "ipython2",
   "version": "2.7.13"
  }
 },
 "nbformat": 4,
 "nbformat_minor": 2
}
